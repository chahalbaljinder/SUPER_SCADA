{
 "cells": [
  {
   "cell_type": "code",
   "execution_count": 112,
   "id": "f9fce9bb-1d5f-4e06-82a7-1af2043e4579",
   "metadata": {},
   "outputs": [
    {
     "name": "stdout",
     "output_type": "stream",
     "text": [
      "Connected to MongoDB!\n",
      "Accessing collection: txn_collection\n",
      "Head of the DataFrame:\n"
     ]
    },
    {
     "data": {
      "text/html": [
       "<div>\n",
       "<style scoped>\n",
       "    .dataframe tbody tr th:only-of-type {\n",
       "        vertical-align: middle;\n",
       "    }\n",
       "\n",
       "    .dataframe tbody tr th {\n",
       "        vertical-align: top;\n",
       "    }\n",
       "\n",
       "    .dataframe thead th {\n",
       "        text-align: right;\n",
       "    }\n",
       "</style>\n",
       "<table border=\"1\" class=\"dataframe\">\n",
       "  <thead>\n",
       "    <tr style=\"text-align: right;\">\n",
       "      <th></th>\n",
       "      <th>_id</th>\n",
       "      <th>timestamp</th>\n",
       "      <th>transaction_id</th>\n",
       "      <th>transaction_sequence</th>\n",
       "    </tr>\n",
       "  </thead>\n",
       "  <tbody>\n",
       "    <tr>\n",
       "      <th>0</th>\n",
       "      <td>66d8123271ab551cb378bfc9</td>\n",
       "      <td>2024-9-18 4:56</td>\n",
       "      <td>55f50175809c4c43b216f8e656e57a03</td>\n",
       "      <td>1</td>\n",
       "    </tr>\n",
       "    <tr>\n",
       "      <th>1</th>\n",
       "      <td>66d8123271ab551cb378bfca</td>\n",
       "      <td>2024-9-16 13:27</td>\n",
       "      <td>baa699b3386b493f84639d3b78a099a2</td>\n",
       "      <td>2</td>\n",
       "    </tr>\n",
       "    <tr>\n",
       "      <th>2</th>\n",
       "      <td>66d8123271ab551cb378bfcb</td>\n",
       "      <td>2024-9-19 3:41</td>\n",
       "      <td>6e193a6389c14681a6d3b0120ff05056</td>\n",
       "      <td>3</td>\n",
       "    </tr>\n",
       "  </tbody>\n",
       "</table>\n",
       "</div>"
      ],
      "text/plain": [
       "                        _id        timestamp  \\\n",
       "0  66d8123271ab551cb378bfc9   2024-9-18 4:56   \n",
       "1  66d8123271ab551cb378bfca  2024-9-16 13:27   \n",
       "2  66d8123271ab551cb378bfcb   2024-9-19 3:41   \n",
       "\n",
       "                     transaction_id  transaction_sequence  \n",
       "0  55f50175809c4c43b216f8e656e57a03                     1  \n",
       "1  baa699b3386b493f84639d3b78a099a2                     2  \n",
       "2  6e193a6389c14681a6d3b0120ff05056                     3  "
      ]
     },
     "execution_count": 112,
     "metadata": {},
     "output_type": "execute_result"
    }
   ],
   "source": [
    "import pandas as pd\n",
    "from pymongo import MongoClient\n",
    "from pymongo.errors import ServerSelectionTimeoutError\n",
    "\n",
    "# MongoDB connection URI\n",
    "mongo_uri = 'mongodb://localhost:27017/'  # Replace with your MongoDB URI\n",
    "\n",
    "# Database and collection names\n",
    "db_name = 'test_database'  # Replace with your database name\n",
    "collection_name = 'txn_collection'  # Replace with your collection name\n",
    "\n",
    "try:\n",
    "    # Establish connection to MongoDB\n",
    "    client = MongoClient(mongo_uri, serverSelectionTimeoutMS=5000)  # Timeout for connection\n",
    "    print(\"Connected to MongoDB!\")\n",
    "\n",
    "    # Access the database and collection\n",
    "    db = client[db_name]\n",
    "    collection = db[collection_name]\n",
    "    print(f\"Accessing collection: {collection_name}\")\n",
    "\n",
    "    # Fetch all documents from the collection\n",
    "    cursor = collection.find()\n",
    "\n",
    "    # Convert the cursor to a list of dictionaries\n",
    "    documents = list(cursor)\n",
    "\n",
    "    # Convert the list of dictionaries to a pandas DataFrame\n",
    "    data = pd.DataFrame(documents)\n",
    "    #print(\"Data converted to DataFrame.\")\n",
    "\n",
    "except ServerSelectionTimeoutError as e:\n",
    "    print(\"Failed to connect to MongoDB:\", e)\n",
    "\n",
    "# Display the head of the DataFrame\n",
    "print(\"Head of the DataFrame:\")\n",
    "data.head(3)"
   ]
  },
  {
   "cell_type": "code",
   "execution_count": 113,
   "id": "0dbc43d4-1cce-4f00-b83d-4951c1a0dc1e",
   "metadata": {},
   "outputs": [],
   "source": [
    "import pandas as pd\n",
    "import os\n",
    "\n",
    "# Convert timestamp column to datetime\n",
    "data['timestamp'] = pd.to_datetime(data['timestamp'])\n",
    "\n",
    "# Specify the output directory (adjust this to your directory)\n",
    "output_dir = r'C:\\Users\\admin\\Desktop\\metro ridership project\\output of txn record'  # Update this path accordingly\n",
    "\n",
    "# Function to save DataFrame to CSV with error handling\n",
    "def save_to_csv(df, filename):\n",
    "    filepath = os.path.join(output_dir, filename)\n",
    "    try:\n",
    "        df.to_csv(filepath, index=False)\n",
    "        print(f\"Data saved to {filepath}\")\n",
    "    except PermissionError as e:\n",
    "        print(f\"PermissionError: {e}. Please ensure the file is not open or locked and that you have write permissions.\")\n",
    "    except Exception as e:\n",
    "        print(f\"An error occurred: {e}\")\n"
   ]
  },
  {
   "cell_type": "code",
   "execution_count": 120,
   "id": "96406768-2a5f-434d-8616-4c21b5cf0e77",
   "metadata": {},
   "outputs": [
    {
     "name": "stdout",
     "output_type": "stream",
     "text": [
      "Hourly transaction counts have been saved to C:\\Users\\admin\\Desktop\\metro ridership project\\output of txn record\\hourly_transactions.csv\n"
     ]
    }
   ],
   "source": [
    "def calculate_and_save_hourly_transactions(data, output_file):\n",
    "    # Ensure 'timestamp' column is of datetime type\n",
    "    if not pd.api.types.is_datetime64_any_dtype(data['timestamp']):\n",
    "        raise TypeError(\"The 'timestamp' column must be of datetime type.\")\n",
    "    \n",
    "    # Group by hour and count transactions\n",
    "    hourly_transactions = data.groupby(data['timestamp'].dt.hour).size().reset_index(name='transaction_count')\n",
    "    \n",
    "    # Rename columns\n",
    "    hourly_transactions.columns = ['hour', 'transaction_count']\n",
    "    \n",
    "    # Save results to CSV\n",
    "    hourly_transactions.to_csv(output_file, index=False)\n",
    "\n",
    "    # Print confirmation\n",
    "    print(f\"Hourly transaction counts have been saved to {output_file}\")\n",
    "\n",
    "# Call the function\n",
    "calculate_and_save_hourly_transactions(data, r'C:\\Users\\admin\\Desktop\\metro ridership project\\output of txn record\\hourly_transactions.csv')"
   ]
  },
  {
   "cell_type": "code",
   "execution_count": 125,
   "id": "4709aa0a-6c51-4975-8043-3d4efe8c2f3b",
   "metadata": {},
   "outputs": [
    {
     "name": "stdout",
     "output_type": "stream",
     "text": [
      "Daily transaction counts have been saved to C:\\Users\\admin\\Desktop\\metro ridership project\\output of txn record\\daily_transactions.csv\n"
     ]
    }
   ],
   "source": [
    "def calculate_and_save_daily_transactions(data, output_file):\n",
    "   \n",
    "    # Ensure 'timestamp' column is of datetime type\n",
    "    if not pd.api.types.is_datetime64_any_dtype(data['timestamp']):\n",
    "        raise TypeError(\"The 'timestamp' column must be of datetime type.\")\n",
    "    \n",
    "    # Group by date and count transactions\n",
    "    daily_transactions = data.groupby(data['timestamp'].dt.date).size().reset_index(name='transaction_count')\n",
    "    \n",
    "    # Add day of the week\n",
    "    daily_transactions['day_of_week'] = daily_transactions['timestamp'].apply(lambda x: x.strftime('%A'))\n",
    "    \n",
    "    # Rename columns\n",
    "    daily_transactions.columns = ['date', 'transaction_count', 'day_of_week']\n",
    "    \n",
    "    # Save results to CSV\n",
    "    daily_transactions.to_csv(output_file, index=False)\n",
    "\n",
    "    # Print confirmation\n",
    "    print(f\"Daily transaction counts have been saved to {output_file}\")\n",
    "\n",
    "# Call the function\n",
    "calculate_and_save_daily_transactions(data, r'C:\\Users\\admin\\Desktop\\metro ridership project\\output of txn record\\daily_transactions.csv')"
   ]
  },
  {
   "cell_type": "code",
   "execution_count": 121,
   "id": "b7894d93-c3b7-4374-9a20-0d008656b9d0",
   "metadata": {},
   "outputs": [
    {
     "name": "stdout",
     "output_type": "stream",
     "text": [
      "Weekly transaction counts have been saved to C:\\Users\\admin\\Desktop\\metro ridership project\\output of txn record\\weekly_transactions.csv\n"
     ]
    }
   ],
   "source": [
    "def calculate_and_save_weekly_transactions(data, output_file):\n",
    "    # Ensure 'timestamp' column is of datetime type\n",
    "    if not pd.api.types.is_datetime64_any_dtype(data['timestamp']):\n",
    "        raise TypeError(\"The 'timestamp' column must be of datetime type.\")\n",
    "    \n",
    "    # Group by week and count transactions\n",
    "    weekly_transactions = data.groupby(data['timestamp'].dt.to_period('W')).size().reset_index(name='transaction_count')\n",
    "    \n",
    "    # Rename columns\n",
    "    weekly_transactions.columns = ['week', 'transaction_count']\n",
    "    \n",
    "    # Convert 'week' column to string to ensure it saves correctly\n",
    "    weekly_transactions['week'] = weekly_transactions['week'].astype(str)\n",
    "    \n",
    "    # Save results to CSV\n",
    "    weekly_transactions.to_csv(output_file, index=False)\n",
    "\n",
    "    # Print confirmation\n",
    "    print(f\"Weekly transaction counts have been saved to {output_file}\")\n",
    "    \n",
    "# Call the function\n",
    "calculate_and_save_weekly_transactions(data, r'C:\\Users\\admin\\Desktop\\metro ridership project\\output of txn record\\weekly_transactions.csv')"
   ]
  },
  {
   "cell_type": "code",
   "execution_count": 122,
   "id": "585e872c-6497-46ce-b254-98eef9c52012",
   "metadata": {},
   "outputs": [
    {
     "name": "stdout",
     "output_type": "stream",
     "text": [
      "Total transactions from 2024-09-01 00:00:00 to 2024-09-01 23:59:59 between hours 8-16: 11\n"
     ]
    }
   ],
   "source": [
    "def filter_and_count_transactions_by_datetime(data, start_datetime, end_datetime, start_hour, end_hour, output_file):\n",
    "    # Ensure start_datetime and end_datetime are valid Timestamp objects\n",
    "    if not isinstance(start_datetime, pd.Timestamp) or not isinstance(end_datetime, pd.Timestamp):\n",
    "        raise TypeError(\"start_datetime and end_datetime must be pandas Timestamp objects.\")\n",
    "    \n",
    "    if start_datetime > end_datetime:\n",
    "        raise ValueError(\"end_datetime must be greater than or equal to start_datetime.\")\n",
    "    \n",
    "    if not (0 <= start_hour < 24 and 0 <= end_hour <= 24):\n",
    "        raise ValueError(\"Hours must be between 0 and 24.\")\n",
    "    \n",
    "    if start_hour >= end_hour:\n",
    "        raise ValueError(\"end_hour must be greater than start_hour.\")\n",
    "\n",
    "    # Filter data based on the given range of dates and times\n",
    "    range_daily_df = data[(data['timestamp'] >= start_datetime) & (data['timestamp'] <= end_datetime) &\n",
    "                          (data['timestamp'].dt.hour >= start_hour) & (data['timestamp'].dt.hour < end_hour)].copy()\n",
    "    \n",
    "    # Add the date and time range and transaction count columns\n",
    "    range_daily_df['datetime_range'] = f'{start_datetime} to {end_datetime} ({start_hour}-{end_hour})'\n",
    "    range_daily_df['transaction_count'] = 1  # Each row represents one transaction\n",
    "    \n",
    "    # Save the results to a CSV file\n",
    "    range_daily_df[['datetime_range', 'transaction_count']].to_csv(output_file, index=False)\n",
    "\n",
    "    # Calculate and return the transaction count\n",
    "    transaction_count = range_daily_df['transaction_count'].sum()\n",
    "    return transaction_count\n",
    "\n",
    "# Define start and end datetimes and hour range\n",
    "start_datetime = pd.Timestamp('2024-09-01 00:00:00')\n",
    "end_datetime = pd.Timestamp('2024-09-01 23:59:59')\n",
    "start_hour = 8\n",
    "end_hour = 16\n",
    "\n",
    "# Call the function\n",
    "total_transactions = filter_and_count_transactions_by_datetime(data, start_datetime, end_datetime, start_hour, end_hour, r'C:\\Users\\admin\\Desktop\\metro ridership project\\output of txn record\\range_daily_transactions.csv')\n",
    "print(f\"Total transactions from {start_datetime} to {end_datetime} between hours {start_hour}-{end_hour}: {total_transactions}\")\n"
   ]
  },
  {
   "cell_type": "code",
   "execution_count": 118,
   "id": "14aa834e-cda8-43d5-854f-ec934965a9b6",
   "metadata": {},
   "outputs": [
    {
     "name": "stdout",
     "output_type": "stream",
     "text": [
      "Total transactions from 2024-09-01 to 2024-09-01: 16\n"
     ]
    }
   ],
   "source": [
    "# Convert timestamp column to datetime\n",
    "data['timestamp'] = pd.to_datetime(data['timestamp'])\n",
    "#date range\n",
    "def filter_and_count_transactions_by_date(data, start_date, end_date, output_file):\n",
    "    # Ensure start_date and end_date are valid Timestamp objects\n",
    "    if not isinstance(start_date, pd.Timestamp) or not isinstance(end_date, pd.Timestamp):\n",
    "        raise TypeError(\"start_date and end_date must be pandas Timestamp objects.\")\n",
    "    \n",
    "    if start_date > end_date:\n",
    "        raise ValueError(\"end_date must be greater than or equal to start_date.\")\n",
    "\n",
    "    # Filter data based on the given range of dates\n",
    "    range_daily_df = data[(data['timestamp'] >= start_date) & (data['timestamp'] <= end_date)].copy()\n",
    "    \n",
    "    # Add the date range and transaction count columns\n",
    "    range_daily_df['date_range'] = f'{start_date.date()} to {end_date.date()}'\n",
    "    range_daily_df['transaction_count'] = 1  # Each row represents one transaction\n",
    "    \n",
    "    # Save the results to a CSV file\n",
    "    range_daily_df[['date_range', 'transaction_count']].to_csv(output_file, index=False)\n",
    "\n",
    "    # Calculate and return the transaction count\n",
    "    transaction_count = range_daily_df['transaction_count'].sum()\n",
    "    return transaction_count\n",
    "\n",
    "# Define start and end dates\n",
    "start_date = pd.Timestamp('2024-09-01 00:00:00')\n",
    "end_date = pd.Timestamp('2024-09-01 11:59:59')\n",
    "\n",
    "# Call the function\n",
    "total_transactions = filter_and_count_transactions_by_date(data, start_date, end_date, 'range_daily_transactions.csv')\n",
    "print(f\"Total transactions from {start_date.date()} to {end_date.date()}: {total_transactions}\")\n"
   ]
  },
  {
   "cell_type": "code",
   "execution_count": 119,
   "id": "7d1659d1-8e5b-4051-93a4-d2525044e92d",
   "metadata": {},
   "outputs": [
    {
     "name": "stdout",
     "output_type": "stream",
     "text": [
      "Weekend transactions have been saved to weekend_transactions.csv\n",
      "Weekday transactions have been saved to weekday_transactions.csv\n",
      "Total weekend transactions: 277\n",
      "Total weekday transactions: 723\n"
     ]
    }
   ],
   "source": [
    "def categorize_and_save_weekend_weekday_transactions(data, weekend_file, weekday_file):\n",
    "    # Ensure 'timestamp' column is of datetime type\n",
    "    if not pd.api.types.is_datetime64_any_dtype(data['timestamp']):\n",
    "        raise TypeError(\"The 'timestamp' column must be of datetime type.\")\n",
    "    \n",
    "    # Categorize transactions into weekends and weekdays\n",
    "    weekend_transactions = data[data['timestamp'].dt.dayofweek >= 5].copy()\n",
    "    weekend_transactions['type'] = 'weekends'\n",
    "    weekend_transactions['transaction_count'] = 1\n",
    "    \n",
    "    weekday_transactions = data[data['timestamp'].dt.dayofweek < 5].copy()\n",
    "    weekday_transactions['type'] = 'weekdays'\n",
    "    weekday_transactions['transaction_count'] = 1\n",
    "    \n",
    "    # Save results to CSV files\n",
    "    weekend_transactions[['type', 'transaction_count']].to_csv(weekend_file, index=False)\n",
    "    weekday_transactions[['type', 'transaction_count']].to_csv(weekday_file, index=False)\n",
    "    \n",
    "    # Print confirmation\n",
    "    print(f\"Weekend transactions have been saved to {weekend_file}\")\n",
    "    print(f\"Weekday transactions have been saved to {weekday_file}\")\n",
    "    \n",
    "    # Calculate and print the total number of transactions for weekends and weekdays\n",
    "    total_weekend_transactions = weekend_transactions['transaction_count'].sum()\n",
    "    total_weekday_transactions = weekday_transactions['transaction_count'].sum()\n",
    "    \n",
    "    print(f\"Total weekend transactions: {total_weekend_transactions}\")\n",
    "    print(f\"Total weekday transactions: {total_weekday_transactions}\")\n",
    "    \n",
    "# Call the function\n",
    "categorize_and_save_weekend_weekday_transactions(data, 'weekend_transactions.csv', 'weekday_transactions.csv')"
   ]
  },
  {
   "cell_type": "code",
   "execution_count": 130,
   "id": "171f0168-0b78-4cf3-b93b-ebf167e8703d",
   "metadata": {},
   "outputs": [
    {
     "name": "stdout",
     "output_type": "stream",
     "text": [
      "Weekly transaction counts have been saved to C:\\Users\\admin\\Desktop\\metro ridership project\\output of txn record\\range_weekly_transactions.csv\n",
      "Total transactions from 2024-08-26 to 2024-09-09: 286\n"
     ]
    }
   ],
   "source": [
    "# Range of Weeks\n",
    "def calculate_and_save_weekly_transactions(data, start_date, end_date, output_file):\n",
    "    # Ensure 'timestamp' column is of datetime type\n",
    "    if not pd.api.types.is_datetime64_any_dtype(data['timestamp']):\n",
    "        raise TypeError(\"The 'timestamp' column must be of datetime type.\")\n",
    "    \n",
    "    # Convert start_date and end_date to pd.Timestamp if they are strings\n",
    "    if isinstance(start_date, str):\n",
    "        start_date = pd.Timestamp(start_date)\n",
    "    if isinstance(end_date, str):\n",
    "        end_date = pd.Timestamp(end_date)\n",
    "    \n",
    "    # Ensure dates are within valid range\n",
    "    if start_date > end_date:\n",
    "        raise ValueError(\"End date must be greater than or equal to start date.\")\n",
    "    \n",
    "    # Filter data based on the given week range\n",
    "    range_weekly_df = data[(data['timestamp'] >= start_date) & (data['timestamp'] <= end_date)].copy()\n",
    "    \n",
    "    # Add week range and transaction count columns\n",
    "    range_weekly_df['week_range'] = f'{start_date.date()} to {end_date.date()}'\n",
    "    range_weekly_df['transaction_count'] = 1  # Each row represents one transaction\n",
    "    \n",
    "    # Save results to CSV\n",
    "    range_weekly_df[['week_range', 'transaction_count']].to_csv(output_file, index=False)\n",
    "    \n",
    "    # Print confirmation and total transaction count\n",
    "    total_transactions = range_weekly_df['transaction_count'].sum()\n",
    "    print(f\"Weekly transaction counts have been saved to {output_file}\")\n",
    "    print(f\"Total transactions from {start_date.date()} to {end_date.date()}: {total_transactions}\")\n",
    "\n",
    "# Define start and end dates as variables\n",
    "start_date = '2024-08-26'\n",
    "end_date = '2024-09-09'\n",
    "\n",
    "# Call the function with these variables\n",
    "calculate_and_save_weekly_transactions(data, start_date, end_date, r'C:\\Users\\admin\\Desktop\\metro ridership project\\output of txn record\\range_weekly_transactions.csv')\n"
   ]
  },
  {
   "cell_type": "code",
   "execution_count": 133,
   "id": "9a52fc99-d2f5-4a87-a845-ab45a91ff489",
   "metadata": {},
   "outputs": [
    {
     "name": "stdout",
     "output_type": "stream",
     "text": [
      "Monthly transaction counts have been saved to C:\\Users\\admin\\Desktop\\metro ridership project\\output of txn record\\monthly_transactions.csv\n",
      "Total transactions from 2024-08 to 2024-09: 1000\n"
     ]
    }
   ],
   "source": [
    "# Monthly Transactions\n",
    "def calculate_and_save_monthly_transactions(data, start_month, end_month, output_file):\n",
    "\n",
    "    # Ensure 'timestamp' column is of datetime type\n",
    "    if not pd.api.types.is_datetime64_any_dtype(data['timestamp']):\n",
    "        raise TypeError(\"The 'timestamp' column must be of datetime type.\")\n",
    "    \n",
    "    # Convert start_month and end_month to pd.Period if they are strings\n",
    "    if isinstance(start_month, str):\n",
    "        start_month = pd.Period(start_month, freq='M')\n",
    "    if isinstance(end_month, str):\n",
    "        end_month = pd.Period(end_month, freq='M')\n",
    "    \n",
    "    # Ensure months are within valid range\n",
    "    if start_month > end_month:\n",
    "        raise ValueError(\"End month must be greater than or equal to start month.\")\n",
    "    \n",
    "    # Convert timestamps to monthly periods\n",
    "    data['month'] = data['timestamp'].dt.to_period('M')\n",
    "    \n",
    "    # Filter data based on the given month range\n",
    "    range_monthly_df = data[(data['month'] >= start_month) & (data['month'] <= end_month)].copy()\n",
    "    \n",
    "    # Group by month and count transactions\n",
    "    monthly_transactions = range_monthly_df.groupby('month').size().reset_index(name='transaction_count')\n",
    "    \n",
    "    # Rename columns\n",
    "    monthly_transactions.columns = ['month', 'transaction_count']\n",
    "    \n",
    "    # Save results to CSV\n",
    "    monthly_transactions.to_csv(output_file, index=False)\n",
    "    \n",
    "    # Print confirmation and total transaction count\n",
    "    total_transactions = monthly_transactions['transaction_count'].sum()\n",
    "    print(f\"Monthly transaction counts have been saved to {output_file}\")\n",
    "    print(f\"Total transactions from {start_month} to {end_month}: {total_transactions}\")\n",
    "\n",
    "# Define start and end months as variables\n",
    "start_month = '2024-08'\n",
    "end_month = '2024-9'\n",
    "\n",
    "# Call the function with these variables\n",
    "calculate_and_save_monthly_transactions(data, start_month, end_month, r'C:\\Users\\admin\\Desktop\\metro ridership project\\output of txn record\\monthly_transactions.csv')"
   ]
  },
  {
   "cell_type": "code",
   "execution_count": 135,
   "id": "5d5a90e1-7cdf-423e-a0ab-8f31b4d9cb27",
   "metadata": {},
   "outputs": [
    {
     "name": "stdout",
     "output_type": "stream",
     "text": [
      "Yearly transaction counts have been saved to C:\\Users\\admin\\Desktop\\metro ridership project\\output of txn record\\yearly_transactions.csv\n",
      "Total transactions for the year 2024: 1000\n"
     ]
    }
   ],
   "source": [
    "# Yearly Transactions\n",
    "def calculate_and_save_yearly_transactions(data, year, output_file):\n",
    "    \n",
    "    # Ensure 'timestamp' column is of datetime type\n",
    "    if not pd.api.types.is_datetime64_any_dtype(data['timestamp']):\n",
    "        raise TypeError(\"The 'timestamp' column must be of datetime type.\")\n",
    "    \n",
    "    # Ensure year is a valid integer\n",
    "    if not isinstance(year, int) or year < 0:\n",
    "        raise ValueError(\"Year must be a positive integer.\")\n",
    "    \n",
    "    # Filter data based on the given year\n",
    "    yearly_transactions_df = data[data['timestamp'].dt.year == year].copy()\n",
    "    \n",
    "    # Group by year and count transactions\n",
    "    yearly_transactions = yearly_transactions_df.groupby(yearly_transactions_df['timestamp'].dt.year).size().reset_index(name='transaction_count')\n",
    "    \n",
    "    # Rename columns\n",
    "    yearly_transactions.columns = ['year', 'transaction_count']\n",
    "    \n",
    "    # Save results to CSV\n",
    "    yearly_transactions.to_csv(output_file, index=False)\n",
    "    \n",
    "    # Print confirmation and total transaction count\n",
    "    total_transactions = yearly_transactions['transaction_count'].sum()\n",
    "    print(f\"Yearly transaction counts have been saved to {output_file}\")\n",
    "    print(f\"Total transactions for the year {year}: {total_transactions}\")\n",
    "\n",
    "# Define the year as a variable\n",
    "year = 2024\n",
    "\n",
    "# Call the function with this variable\n",
    "calculate_and_save_yearly_transactions(data, year, r'C:\\Users\\admin\\Desktop\\metro ridership project\\output of txn record\\yearly_transactions.csv')"
   ]
  },
  {
   "cell_type": "code",
   "execution_count": null,
   "id": "bf1ca2a0-f9ef-4a56-85a9-85a8328d6208",
   "metadata": {},
   "outputs": [],
   "source": [
    "# Indian Holidays\n",
    "holidays_df = pd.DataFrame({\n",
    "    'holiday_date': ['2024-08-15', '2024-10-02']\n",
    "})\n",
    "holidays_df['holiday_date'] = pd.to_datetime(holidays_df['holiday_date'])\n",
    "holiday_transactions = data[data['timestamp'].dt.date.isin(holidays_df['holiday_date'].dt.date)].copy()\n",
    "holiday_transactions['type'] = 'holidays'\n",
    "holiday_transactions['transaction_count'] = 1\n",
    "save_to_csv(holiday_transactions[['type', 'transaction_count']], 'holiday_transactions.csv')\n"
   ]
  },
  {
   "cell_type": "code",
   "execution_count": null,
   "id": "a3256a79-52fc-44e8-b382-808caa40a169",
   "metadata": {},
   "outputs": [],
   "source": [
    "# Indian Festivals\n",
    "festivals_df = pd.DataFrame({\n",
    "    'festival_date': ['2024-10-24', '2024-12-25']\n",
    "})\n",
    "festivals_df['festival_date'] = pd.to_datetime(festivals_df['festival_date'])\n",
    "festival_transactions = data[data['timestamp'].dt.date.isin(festivals_df['festival_date'].dt.date)].copy()\n",
    "festival_transactions['type'] = 'festivals'\n",
    "festival_transactions['transaction_count'] = 1\n",
    "save_to_csv(festival_transactions[['type', 'transaction_count']], 'festival_transactions.csv')\n",
    "\n",
    "print(\"All analysis saved to separate CSV files.\")"
   ]
  }
 ],
 "metadata": {
  "kernelspec": {
   "display_name": "Python 3 (ipykernel)",
   "language": "python",
   "name": "python3"
  },
  "language_info": {
   "codemirror_mode": {
    "name": "ipython",
    "version": 3
   },
   "file_extension": ".py",
   "mimetype": "text/x-python",
   "name": "python",
   "nbconvert_exporter": "python",
   "pygments_lexer": "ipython3",
   "version": "3.11.2"
  },
  "widgets": {
   "application/vnd.jupyter.widget-state+json": {
    "state": {},
    "version_major": 2,
    "version_minor": 0
   }
  }
 },
 "nbformat": 4,
 "nbformat_minor": 5
}
