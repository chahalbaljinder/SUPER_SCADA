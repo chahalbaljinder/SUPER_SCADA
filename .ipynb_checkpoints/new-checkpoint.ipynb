{
 "cells": [
  {
   "cell_type": "code",
   "execution_count": 3,
   "id": "f3d91173-e946-4ed0-a619-e0db2a153cf4",
   "metadata": {},
   "outputs": [
    {
     "name": "stdout",
     "output_type": "stream",
     "text": [
      "<class 'pandas.core.frame.DataFrame'>\n",
      "RangeIndex: 1000 entries, 0 to 999\n",
      "Data columns (total 12 columns):\n",
      " #   Column           Non-Null Count  Dtype \n",
      "---  ------           --------------  ----- \n",
      " 0   date             1000 non-null   object\n",
      " 1   transaction_id   1000 non-null   object\n",
      " 2   transaction_seq  1000 non-null   int64 \n",
      " 3   hour             1000 non-null   int64 \n",
      " 4   day              1000 non-null   int64 \n",
      " 5   week             1000 non-null   int64 \n",
      " 6   month            1000 non-null   int64 \n",
      " 7   year             1000 non-null   int64 \n",
      " 8   day_of_week      1000 non-null   int64 \n",
      " 9   is_weekend       1000 non-null   int64 \n",
      " 10  is_holiday       1000 non-null   int64 \n",
      " 11  is_festival      1000 non-null   int64 \n",
      "dtypes: int64(10), object(2)\n",
      "memory usage: 93.9+ KB\n"
     ]
    },
    {
     "data": {
      "text/plain": [
       "(            date                    transaction_id  transaction_seq  hour  \\\n",
       " 0  2024-9-1 0:22  65856a3c6e1d4da48c6febfdc853755e                1     0   \n",
       " 1  2024-9-1 0:47  35a075af0bd04e2d9b89d176ed75e119                2     0   \n",
       " 2  2024-9-1 0:48  6fcba50ac35c4424b2d36f55e81c7947                3     0   \n",
       " 3  2024-9-1 1:26  a4cf0301aaa940eaae2333126c6ad2d6                4     1   \n",
       " 4  2024-9-1 1:47  46ccafb78dd24afdbc14033da35badd2                5     1   \n",
       " \n",
       "    day  week  month  year  day_of_week  is_weekend  is_holiday  is_festival  \n",
       " 0    1    35      9  2024            6           1           0            0  \n",
       " 1    1    35      9  2024            6           1           0            0  \n",
       " 2    1    35      9  2024            6           1           0            0  \n",
       " 3    1    35      9  2024            6           1           0            0  \n",
       " 4    1    35      9  2024            6           1           0            0  ,\n",
       " None)"
      ]
     },
     "execution_count": 3,
     "metadata": {},
     "output_type": "execute_result"
    }
   ],
   "source": [
    "import pandas as pd\n",
    "\n",
    "# Load the dataset\n",
    "file_path = r'C:\\Users\\admin\\Desktop\\metro ridership project\\transaction_data.csv'\n",
    "data = pd.read_csv(file_path)\n",
    "\n",
    "# Display the first few rows and the data types\n",
    "data.head(), data.info()\n"
   ]
  },
  {
   "cell_type": "code",
   "execution_count": 8,
   "id": "98996ff6-ae26-40c1-b8f7-62693f4c6754",
   "metadata": {},
   "outputs": [
    {
     "name": "stderr",
     "output_type": "stream",
     "text": [
      "C:\\Users\\admin\\AppData\\Local\\Temp\\ipykernel_10396\\1168312502.py:3: UserWarning: The argument 'infer_datetime_format' is deprecated and will be removed in a future version. A strict version of it is now the default, see https://pandas.pydata.org/pdeps/0004-consistent-to-datetime-parsing.html. You can safely remove this argument.\n",
      "  data['date'] = pd.to_datetime(data['date'], infer_datetime_format=True)\n"
     ]
    },
    {
     "data": {
      "text/plain": [
       "(   year  month  day  hour  is_weekend  is_holiday  is_festival  \\\n",
       " 0  2024      9    1     0           1           0            0   \n",
       " 1  2024      9    1     1           1           0            0   \n",
       " 2  2024      9    1     3           1           0            0   \n",
       " 3  2024      9    1     4           1           0            0   \n",
       " 4  2024      9    1     5           1           0            0   \n",
       " \n",
       "    transaction_count  \n",
       " 0                  3  \n",
       " 1                  2  \n",
       " 2                  2  \n",
       " 3                  1  \n",
       " 4                  1  ,\n",
       "    year  month  day  is_weekend  is_holiday  is_festival  transaction_count\n",
       " 0  2024      9    1           1           0            0                 27\n",
       " 1  2024      9    2           0           0            0                 46\n",
       " 2  2024      9    3           0           0            0                 36\n",
       " 3  2024      9    4           0           0            0                 31\n",
       " 4  2024      9    5           0           0            0                 37,\n",
       "    year  week  is_weekend  is_holiday  is_festival  transaction_count\n",
       " 0  2024    35           1           0            0                 27\n",
       " 1  2024    36           0           0            0                192\n",
       " 2  2024    36           1           0            0                 67\n",
       " 3  2024    37           0           0            0                159\n",
       " 4  2024    37           1           0            0                 56,\n",
       "    year  month  is_weekend  is_holiday  is_festival  transaction_count\n",
       " 0  2024      9           0           0            0                723\n",
       " 1  2024      9           1           0            0                277)"
      ]
     },
     "execution_count": 8,
     "metadata": {},
     "output_type": "execute_result"
    }
   ],
   "source": [
    "# Convert 'timestamp' column to datetime with seconds\n",
    "#data['date'] = pd.to_datetime(data['date'], format='%Y-%m-%d %H:%M:%S')\n",
    "data['date'] = pd.to_datetime(data['date'], infer_datetime_format=True)\n",
    "# Extract features: hour, day, week, month, day of week, etc.\n",
    "data['hour'] = data['date'].dt.hour\n",
    "data['day'] = data['date'].dt.day\n",
    "data['week'] = data['date'].dt.isocalendar().week\n",
    "data['month'] = data['date'].dt.month\n",
    "data['year'] = data['date'].dt.year\n",
    "data['day_of_week'] = data['date'].dt.dayofweek\n",
    "\n",
    "# Weekend Indicator (1 if weekend, 0 if weekday)\n",
    "data['is_weekend'] = data['day_of_week'].apply(lambda x: 1 if x >= 5 else 0)\n",
    "\n",
    "# Assuming holidays_df contains the list of holidays (excluding festivals)\n",
    "holidays_df = pd.DataFrame({\n",
    "    'holiday_date': ['2024-08-15', '2024-10-02']  # Add more holidays here\n",
    "})\n",
    "holidays_df['holiday_date'] = pd.to_datetime(holidays_df['holiday_date'])\n",
    "\n",
    "# Holiday Indicator (1 if holiday, 0 otherwise)\n",
    "data['is_holiday'] = data['date'].dt.date.isin(holidays_df['holiday_date'].dt.date).astype(int)\n",
    "\n",
    "# Assuming festivals_df contains the list of festivals\n",
    "festivals_df = pd.DataFrame({\n",
    "    'festival_date': ['2024-08-30']  # Add more festival dates here\n",
    "})\n",
    "festivals_df['festival_date'] = pd.to_datetime(festivals_df['festival_date'])\n",
    "\n",
    "# Festival Indicator (1 if festival, 0 otherwise)\n",
    "data['is_festival'] = data['date'].dt.date.isin(festivals_df['festival_date'].dt.date).astype(int)\n",
    "\n",
    "# Aggregating transactions by hour, day, week, and month along with the new features\n",
    "# Hourly Transactions\n",
    "hourly_transactions = data.groupby(['year', 'month', 'day', 'hour', 'is_weekend', 'is_holiday', 'is_festival']).size().reset_index(name='transaction_count')\n",
    "\n",
    "# Daily Transactions\n",
    "daily_transactions = data.groupby(['year', 'month', 'day', 'is_weekend', 'is_holiday', 'is_festival']).size().reset_index(name='transaction_count')\n",
    "\n",
    "# Weekly Transactions\n",
    "weekly_transactions = data.groupby(['year', 'week', 'is_weekend', 'is_holiday', 'is_festival']).size().reset_index(name='transaction_count')\n",
    "\n",
    "# Monthly Transactions\n",
    "monthly_transactions = data.groupby(['year', 'month', 'is_weekend', 'is_holiday', 'is_festival']).size().reset_index(name='transaction_count')\n",
    "\n",
    "# Display the first few rows of each aggregated dataset\n",
    "hourly_transactions.head(), daily_transactions.head(), weekly_transactions.head(), monthly_transactions.head()\n"
   ]
  },
  {
   "cell_type": "code",
   "execution_count": 9,
   "id": "78ada81d-421c-43ec-b76a-470d9520d12b",
   "metadata": {},
   "outputs": [
    {
     "data": {
      "text/plain": [
       "(   year  month  day  hour  is_weekend  is_holiday  is_festival  \\\n",
       " 0  2024      9    1     0           1           0            0   \n",
       " 1  2024      9    1     1           1           0            0   \n",
       " 2  2024      9    1     3           1           0            0   \n",
       " 3  2024      9    1     4           1           0            0   \n",
       " 4  2024      9    1     5           1           0            0   \n",
       " \n",
       "    transaction_count  \n",
       " 0                  3  \n",
       " 1                  2  \n",
       " 2                  2  \n",
       " 3                  1  \n",
       " 4                  1  ,\n",
       "    year  month  day  is_weekend  is_holiday  is_festival  transaction_count\n",
       " 0  2024      9    1           1           0            0                 27\n",
       " 1  2024      9    2           0           0            0                 46\n",
       " 2  2024      9    3           0           0            0                 36\n",
       " 3  2024      9    4           0           0            0                 31\n",
       " 4  2024      9    5           0           0            0                 37,\n",
       "    year  week  is_weekend  is_holiday  is_festival  transaction_count\n",
       " 0  2024    35           1           0            0                 27\n",
       " 1  2024    36           0           0            0                192\n",
       " 2  2024    36           1           0            0                 67\n",
       " 3  2024    37           0           0            0                159\n",
       " 4  2024    37           1           0            0                 56,\n",
       "    year  month  is_weekend  is_holiday  is_festival  transaction_count\n",
       " 0  2024      9           0           0            0                723\n",
       " 1  2024      9           1           0            0                277)"
      ]
     },
     "execution_count": 9,
     "metadata": {},
     "output_type": "execute_result"
    }
   ],
   "source": [
    "# Hourly Transactions\n",
    "hourly_transactions = data.groupby(['year', 'month', 'day', 'hour', 'is_weekend', 'is_holiday', 'is_festival']).size().reset_index(name='transaction_count')\n",
    "\n",
    "# Daily Transactions\n",
    "daily_transactions = data.groupby(['year', 'month', 'day', 'is_weekend', 'is_holiday', 'is_festival']).size().reset_index(name='transaction_count')\n",
    "\n",
    "# Weekly Transactions\n",
    "weekly_transactions = data.groupby(['year', 'week', 'is_weekend', 'is_holiday', 'is_festival']).size().reset_index(name='transaction_count')\n",
    "\n",
    "# Monthly Transactions\n",
    "monthly_transactions = data.groupby(['year', 'month', 'is_weekend', 'is_holiday', 'is_festival']).size().reset_index(name='transaction_count')\n",
    "\n",
    "# Display the first few rows of each aggregated dataset\n",
    "hourly_transactions.head(), daily_transactions.head(), weekly_transactions.head(), monthly_transactions.head()"
   ]
  },
  {
   "cell_type": "code",
   "execution_count": 14,
   "id": "6f88ddd6-7521-4dcd-922e-318465ff09a0",
   "metadata": {},
   "outputs": [
    {
     "name": "stdout",
     "output_type": "stream",
     "text": [
      "Predicted Transactions: 28.69\n",
      "Model RMSE: 2.41839306151833\n"
     ]
    },
    {
     "name": "stderr",
     "output_type": "stream",
     "text": [
      "C:\\Users\\admin\\AppData\\Local\\Programs\\Python\\Python311\\Lib\\site-packages\\xgboost\\core.py:158: UserWarning: [18:47:01] WARNING: C:\\buildkite-agent\\builds\\buildkite-windows-cpu-autoscaling-group-i-0015a694724fa8361-1\\xgboost\\xgboost-ci-windows\\src\\learner.cc:740: \n",
      "Parameters: { \"min_samples_leaf\", \"min_samples_split\" } are not used.\n",
      "\n",
      "  warnings.warn(smsg, UserWarning)\n"
     ]
    }
   ],
   "source": [
    "import numpy as np\n",
    "import pandas as pd\n",
    "from sklearn.model_selection import train_test_split\n",
    "from sklearn.ensemble import RandomForestRegressor\n",
    "from sklearn.metrics import mean_squared_error\n",
    "from sklearn.model_selection import GridSearchCV\n",
    "from xgboost import XGBRegressor\n",
    "\n",
    "# Assuming daily_transactions is already created with features\n",
    "\n",
    "# Create lag features (e.g., previous day's transaction count)\n",
    "daily_transactions['lag_1'] = daily_transactions['transaction_count'].shift(1)\n",
    "daily_transactions['lag_2'] = daily_transactions['transaction_count'].shift(2)\n",
    "daily_transactions['lag_3'] = daily_transactions['transaction_count'].shift(3)\n",
    "\n",
    "# Drop rows with NaN values (due to lagging)\n",
    "daily_transactions = daily_transactions.dropna()\n",
    "\n",
    "# Add day-of-week as a feature\n",
    "daily_transactions['day_of_week'] = pd.to_datetime(daily_transactions[['year', 'month', 'day']]).dt.dayofweek\n",
    "\n",
    "# Add weekend, holiday, and festival indicators\n",
    "daily_transactions['is_weekend'] = data['is_weekend']\n",
    "daily_transactions['is_holiday'] = data['is_holiday']\n",
    "daily_transactions['is_festival'] = data['is_festival']\n",
    "\n",
    "# Define features (X) and target (y)\n",
    "X = daily_transactions[['lag_1', 'lag_2', 'lag_3', 'day_of_week', 'is_weekend', 'is_holiday', 'is_festival']]\n",
    "y = daily_transactions['transaction_count']\n",
    "\n",
    "# Split the data into training and test sets\n",
    "X_train, X_test, y_train, y_test = train_test_split(X, y, test_size=0.2, random_state=42)\n",
    "\n",
    "# Initialize the Random Forest model\n",
    "param_grid_gb = {\n",
    "    'n_estimators': [50, 100, 200],\n",
    "    'learning_rate': [0.01, 0.1, 0.2],\n",
    "    'max_depth': [3, 5, 7],\n",
    "    'min_samples_split': [2, 5, 10],\n",
    "    'min_samples_leaf': [1, 2, 4]\n",
    "}\n",
    "grid_search_xgb = GridSearchCV(estimator=XGBRegressor(random_state=42), param_grid=param_grid_gb, n_jobs=-1)\n",
    "grid_search_xgb.fit(X_train, y_train)\n",
    "#best_gb_model = grid_search_gb.best_estimator_\n",
    "\n",
    "# Function to predict transactions based on input parameters\n",
    "def predict_transactions(date, hour, week, month, year, is_weekend, is_holiday, is_festival):\n",
    "    # Create a DataFrame with input features\n",
    "    input_data = pd.DataFrame({\n",
    "        'lag_1': [0],  # You might want to compute actual lag values based on previous transactions\n",
    "        'lag_2': [0],  # Placeholder for simplicity\n",
    "        'lag_3': [0],\n",
    "        'day_of_week': [pd.Timestamp(f'{year}-{month}-{date}').dayofweek],\n",
    "        'is_weekend': [is_weekend],\n",
    "        'is_holiday': [is_holiday],\n",
    "        'is_festival': [is_festival]\n",
    "    })\n",
    "    \n",
    "    # Predict using the trained model\n",
    "    prediction = model.predict(input_data)\n",
    "    \n",
    "    # Return the predicted transaction count\n",
    "    return prediction[0]\n",
    "\n",
    "# Example usage\n",
    "predicted_transactions = predict_transactions(date=1, hour=10, week=35, month=9, year=2024, is_weekend=0, is_holiday=0, is_festival=0)\n",
    "print(f\"Predicted Transactions: {predicted_transactions}\")\n",
    "\n",
    "# Make predictions on the test set\n",
    "y_pred = model.predict(X_test)\n",
    "\n",
    "# Evaluate the model using RMSE\n",
    "rmse = np.sqrt(mean_squared_error(y_test, y_pred))\n",
    "\n",
    "# Output the RMSE\n",
    "print(f\"Model RMSE: {rmse}\")\n"
   ]
  },
  {
   "cell_type": "code",
   "execution_count": 15,
   "id": "cb8d7eec-4b28-498e-8164-51691d3c0a75",
   "metadata": {},
   "outputs": [
    {
     "name": "stdout",
     "output_type": "stream",
     "text": [
      "   Actual  Predicted\n",
      "0      32      32.42\n",
      "1      28      30.74\n",
      "2      33      32.83\n",
      "3      21      24.96\n"
     ]
    },
    {
     "data": {
      "image/png": "[encoded data removed]",
      "text/plain": [
       "<Figure size 1000x600 with 1 Axes>"
      ]
     },
     "metadata": {},
     "output_type": "display_data"
    }
   ],
   "source": [
    "import matplotlib.pyplot as plt\n",
    "\n",
    "# Create a DataFrame to compare actual vs predicted values\n",
    "comparison_df = pd.DataFrame({'Actual': y_test, 'Predicted': y_pred})\n",
    "\n",
    "# Reset the index to ensure proper alignment for plotting\n",
    "comparison_df = comparison_df.reset_index(drop=True)\n",
    "\n",
    "# Print the actual vs predicted values\n",
    "print(comparison_df)\n",
    "\n",
    "# Plot actual vs predicted values\n",
    "plt.figure(figsize=(10,6))\n",
    "plt.plot(comparison_df['Actual'], label='Actual', marker='o')\n",
    "plt.plot(comparison_df['Predicted'], label='Predicted', marker='x')\n",
    "plt.title('Actual vs Predicted Transactions')\n",
    "plt.xlabel('Sample Index')\n",
    "plt.ylabel('Transaction Count')\n",
    "plt.legend()\n",
    "plt.show()\n"
   ]
  },
  {
   "cell_type": "code",
   "execution_count": null,
   "id": "a4ddf9a3-d0ca-4c7d-8e68-b2861b890a1b",
   "metadata": {},
   "outputs": [],
   "source": []
  },
  {
   "cell_type": "code",
   "execution_count": null,
   "id": "42b1f656-0fd7-4ae5-a09e-5365ad3e987b",
   "metadata": {},
   "outputs": [],
   "source": []
  },
  {
   "cell_type": "code",
   "execution_count": null,
   "id": "814b0564-9184-4dc2-b217-68b26ed2cd5f",
   "metadata": {},
   "outputs": [],
   "source": []
  },
  {
   "cell_type": "code",
   "execution_count": null,
   "id": "8c33df21-6eff-4ded-83ff-6de9ed125f2f",
   "metadata": {},
   "outputs": [],
   "source": []
  }
 ],
 "metadata": {
  "kernelspec": {
   "display_name": "Python 3 (ipykernel)",
   "language": "python",
   "name": "python3"
  },
  "language_info": {
   "codemirror_mode": {
    "name": "ipython",
    "version": 3
   },
   "file_extension": ".py",
   "mimetype": "text/x-python",
   "name": "python",
   "nbconvert_exporter": "python",
   "pygments_lexer": "ipython3",
   "version": "3.11.2"
  },
  "widgets": {
   "application/vnd.jupyter.widget-state+json": {
    "state": {},
    "version_major": 2,
    "version_minor": 0
   }
  }
 },
 "nbformat": 4,
 "nbformat_minor": 5
}
